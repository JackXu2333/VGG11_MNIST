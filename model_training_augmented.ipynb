{
 "cells": [
  {
   "cell_type": "markdown",
   "metadata": {},
   "source": [
    "#### Setup"
   ]
  },
  {
   "cell_type": "code",
   "execution_count": 2,
   "metadata": {},
   "outputs": [],
   "source": [
    "import model\n",
    "\n",
    "import torchvision\n",
    "import torchvision.transforms as transforms\n",
    "\n",
    "import matplotlib\n",
    "import matplotlib.pyplot as plt\n",
    "import matplotlib.ticker as mtick\n",
    "\n",
    "import numpy as np\n",
    "import math\n",
    "\n",
    "%matplotlib inline"
   ]
  },
  {
   "cell_type": "markdown",
   "metadata": {},
   "source": [
    "#### Load image"
   ]
  },
  {
   "cell_type": "code",
   "execution_count": 3,
   "metadata": {},
   "outputs": [
    {
     "name": "stderr",
     "output_type": "stream",
     "text": [
      "C:\\ProgramData\\Anaconda3\\lib\\site-packages\\torchvision\\datasets\\mnist.py:498: UserWarning: The given NumPy array is not writeable, and PyTorch does not support non-writeable tensors. This means you can write to the underlying (supposedly non-writeable) NumPy array using the tensor. You may want to copy the array to protect its data or make it writeable before converting it to a tensor. This type of warning will be suppressed for the rest of this program. (Triggered internally at  ..\\torch\\csrc\\utils\\tensor_numpy.cpp:180.)\n",
      "  return torch.from_numpy(parsed.astype(m[2], copy=False)).view(*s)\n"
     ]
    }
   ],
   "source": [
    "batch_size = 8\n",
    "\n",
    "transform = transforms.Compose(\n",
    "    [transforms.ToTensor(),\n",
    "     transforms.Resize((32,32))])\n",
    "\n",
    "trainset = torchvision.datasets.MNIST(root='./data', train=True,\n",
    "                                        download=True, transform=transform)\n",
    "trainloader = torch.utils.data.DataLoader(trainset, batch_size=batch_size)\n",
    "\n",
    "testset = torchvision.datasets.MNIST(root='./data', train=False,\n",
    "                                       download=True, transform=transform)\n",
    "testloader = torch.utils.data.DataLoader(testset, batch_size=batch_size,\n",
    "                                         shuffle=False)"
   ]
  },
  {
   "cell_type": "markdown",
   "metadata": {},
   "source": [
    "#### Runtime prepare"
   ]
  },
  {
   "cell_type": "code",
   "execution_count": 5,
   "metadata": {},
   "outputs": [
    {
     "name": "stdout",
     "output_type": "stream",
     "text": [
      "device selected: cuda:0\n"
     ]
    }
   ],
   "source": [
    "# Display whether cuda detected\n",
    "device = torch.device('cuda:0' if torch.cuda.is_available() else 'cpu')\n",
    "print(\"device selected:\", device)"
   ]
  },
  {
   "cell_type": "markdown",
   "metadata": {},
   "source": [
    "#### Augment dataset"
   ]
  },
  {
   "cell_type": "code",
   "execution_count": 26,
   "metadata": {},
   "outputs": [],
   "source": [
    "# Setup augmented chart\n",
    "transform_augmented = transforms.Compose(\n",
    "    [transforms.ToTensor(),\n",
    "     transforms.Resize((32,32)),\n",
    "     transforms.RandomVerticalFlip(p=0.5),\n",
    "     transforms.RandomHorizontalFlip(p=0.5),\n",
    "     transforms.RandomChoice([transforms.Lambda(lambda x : x + 0.1*torch.randn_like(x)),\n",
    "          transforms.Lambda(lambda x : x + math.sqrt(0.1)*torch.randn_like(x)),\n",
    "          transforms.Lambda(lambda x : x + torch.randn_like(x))])])\n",
    "\n",
    "trainset = torchvision.datasets.MNIST(root='./data', train=True,\n",
    "                                        download=True, transform=transform_augmented)\n",
    "trainloader_augmented = torch.utils.data.DataLoader(trainset, batch_size=batch_size)"
   ]
  },
  {
   "cell_type": "code",
   "execution_count": 27,
   "metadata": {},
   "outputs": [
    {
     "name": "stdout",
     "output_type": "stream",
     "text": [
      "[1  5000] loss: 1.304\n",
      "[1 10000] loss: 0.737\n",
      "[1 15000] loss: 0.578\n",
      "[2  5000] loss: 0.516\n",
      "[2 10000] loss: 0.495\n",
      "[2 15000] loss: 0.445\n",
      "[3  5000] loss: 0.424\n",
      "[3 10000] loss: 0.414\n",
      "[3 15000] loss: 0.392\n",
      "[4  5000] loss: 0.390\n",
      "[4 10000] loss: 0.375\n",
      "[4 15000] loss: 0.349\n",
      "[5  5000] loss: 0.354\n",
      "[5 10000] loss: 0.351\n",
      "[5 15000] loss: 0.329\n",
      "Finished Training\n"
     ]
    }
   ],
   "source": [
    "# Set as cuda / cpu\n",
    "net_aug = Net().to(device)\n",
    "net_aug.train_test(trainloader, testloader, batch_size, device, num_epochs = 5)"
   ]
  },
  {
   "cell_type": "code",
   "execution_count": 29,
   "metadata": {},
   "outputs": [],
   "source": [
    "# Save model to PATH for future reference\n",
    "PATH = './model_augmented'\n",
    "torch.save(net_aug, PATH)"
   ]
  },
  {
   "cell_type": "markdown",
   "metadata": {},
   "source": [
    "#### Verify effect"
   ]
  },
  {
   "cell_type": "code",
   "execution_count": 30,
   "metadata": {},
   "outputs": [
    {
     "name": "stdout",
     "output_type": "stream",
     "text": [
      "The accuracy for horizontal flip is 96.34%\n",
      "The accuracy for Vertical flip is 95.66%\n",
      "The accuracy for Random Gaussian Noise 0.01 is 96.01%\n",
      "The accuracy for Random Gaussian Noise 0.1 is 94.70%\n",
      "The accuracy for Random Gaussian Noise 1 is 75.81%\n"
     ]
    }
   ],
   "source": [
    "PATH = './model_augmented'\n",
    "net_aug = torch.load(PATH, map_location=torch.device(device))\n",
    "net_aug = net_aug.module.to(device)\n",
    "\n",
    "horizontal_flip_aug = (getAccuracy(net_aug, testloader_horiflip, batch_size) * 100)\n",
    "vertical_flip_aug = (getAccuracy(net_aug, testloader_vertiflip, batch_size) * 100)\n",
    "gaussian_001_aug = (getAccuracy(net_aug, testloader_gaussian_001, batch_size) * 100)\n",
    "gaussian_01_aug = (getAccuracy(net_aug, testloader_gaussian_01, batch_size) * 100)\n",
    "gaussian_1_aug = (getAccuracy(net_aug, testloader_gaussian_1, batch_size) * 100)\n",
    "\n",
    "print('The accuracy for horizontal flip is %.2f%%' % horizontal_flip_aug)\n",
    "print('The accuracy for Vertical flip is %.2f%%' % vertical_flip_aug)\n",
    "print('The accuracy for Random Gaussian Noise 0.01 is %.2f%%' % gaussian_001_aug)\n",
    "print('The accuracy for Random Gaussian Noise 0.1 is %.2f%%' % gaussian_01_aug)\n",
    "print('The accuracy for Random Gaussian Noise 1 is %.2f%%' % gaussian_1_aug)"
   ]
  },
  {
   "cell_type": "code",
   "execution_count": 31,
   "metadata": {},
   "outputs": [
    {
     "data": {
      "image/png": "[encoded data removed]",
      "text/plain": [
       "<Figure size 432x288 with 1 Axes>"
      ]
     },
     "metadata": {
      "needs_background": "light"
     },
     "output_type": "display_data"
    }
   ],
   "source": [
    "plt.bar([\"Horizontal Flip\", \"Vertical Flip\"],[horizontal_flip_aug, vertical_flip_aug])\n",
    "plt.title('Test accuracy vs type of flip (after data augmentation)')\n",
    "plt.xlabel('Type')\n",
    "plt.ylabel('Test accuracy')\n",
    "plt.gca().yaxis.set_major_formatter(mtick.PercentFormatter())"
   ]
  },
  {
   "cell_type": "code",
   "execution_count": 32,
   "metadata": {},
   "outputs": [
    {
     "data": {
      "image/png": "[encoded data removed]",
      "text/plain": [
       "<Figure size 432x288 with 1 Axes>"
      ]
     },
     "metadata": {
      "needs_background": "light"
     },
     "output_type": "display_data"
    }
   ],
   "source": [
    "plt.bar([\"v = 0.01\", \"v = 0.1\", \"v = 1\"],[gaussian_001_aug, gaussian_01_aug, gaussian_1_aug])\n",
    "plt.title('Test accuracy vs gaussian noise (after data augmentation)')\n",
    "plt.xlabel('Noise variance')\n",
    "plt.ylabel('Test accuracy')\n",
    "plt.gca().yaxis.set_major_formatter(mtick.PercentFormatter())"
   ]
  }
 ],
 "metadata": {
  "kernelspec": {
   "display_name": "Python 3",
   "language": "python",
   "name": "python3"
  },
  "language_info": {
   "codemirror_mode": {
    "name": "ipython",
    "version": 3
   },
   "file_extension": ".py",
   "mimetype": "text/x-python",
   "name": "python",
   "nbconvert_exporter": "python",
   "pygments_lexer": "ipython3",
   "version": "3.8.8"
  }
 },
 "nbformat": 4,
 "nbformat_minor": 4
}
